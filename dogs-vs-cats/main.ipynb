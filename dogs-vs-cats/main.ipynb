{
 "cells": [
  {
   "cell_type": "code",
   "execution_count": 19,
   "metadata": {},
   "outputs": [
    {
     "ename": "FileExistsError",
     "evalue": "[Errno 17] File exists: 'cats_vs_dogs_small/train/cat'",
     "output_type": "error",
     "traceback": [
      "\u001b[0;31m---------------------------------------------------------------------------\u001b[0m",
      "\u001b[0;31mFileExistsError\u001b[0m                           Traceback (most recent call last)",
      "Cell \u001b[0;32mIn[19], line 20\u001b[0m\n\u001b[1;32m     16\u001b[0m         \u001b[39mfor\u001b[39;00m fname \u001b[39min\u001b[39;00m fnames:\n\u001b[1;32m     17\u001b[0m             shutil\u001b[39m.\u001b[39mcopyfile(src\u001b[39m=\u001b[39moriginal_dir \u001b[39m/\u001b[39m fname, dst\u001b[39m=\u001b[39m\u001b[39mdir\u001b[39m \u001b[39m/\u001b[39m fname)\n\u001b[0;32m---> 20\u001b[0m make_subset(\u001b[39m\"\u001b[39;49m\u001b[39mtrain\u001b[39;49m\u001b[39m\"\u001b[39;49m, \u001b[39m0\u001b[39;49m, \u001b[39m1000\u001b[39;49m)\n\u001b[1;32m     21\u001b[0m make_subset(\u001b[39m\"\u001b[39m\u001b[39mvalidation\u001b[39m\u001b[39m\"\u001b[39m, \u001b[39m1000\u001b[39m, \u001b[39m1500\u001b[39m)\n\u001b[1;32m     22\u001b[0m make_subset(\u001b[39m\"\u001b[39m\u001b[39mtest\u001b[39m\u001b[39m\"\u001b[39m, \u001b[39m1500\u001b[39m, \u001b[39m2500\u001b[39m)\n",
      "Cell \u001b[0;32mIn[19], line 13\u001b[0m, in \u001b[0;36mmake_subset\u001b[0;34m(subset_name, start_index, end_index)\u001b[0m\n\u001b[1;32m     11\u001b[0m \u001b[39mfor\u001b[39;00m category \u001b[39min\u001b[39;00m [\u001b[39m\"\u001b[39m\u001b[39mcat\u001b[39m\u001b[39m\"\u001b[39m, \u001b[39m\"\u001b[39m\u001b[39mdog\u001b[39m\u001b[39m\"\u001b[39m]:\n\u001b[1;32m     12\u001b[0m     \u001b[39mdir\u001b[39m \u001b[39m=\u001b[39m new_base_dir \u001b[39m/\u001b[39m subset_name \u001b[39m/\u001b[39m category\n\u001b[0;32m---> 13\u001b[0m     os\u001b[39m.\u001b[39;49mmakedirs(\u001b[39mdir\u001b[39;49m)\n\u001b[1;32m     14\u001b[0m     fnames \u001b[39m=\u001b[39m [\u001b[39mf\u001b[39m\u001b[39m\"\u001b[39m\u001b[39m{\u001b[39;00mcategory\u001b[39m}\u001b[39;00m\u001b[39m.\u001b[39m\u001b[39m{\u001b[39;00mi\u001b[39m}\u001b[39;00m\u001b[39m.jpg\u001b[39m\u001b[39m\"\u001b[39m \u001b[39mfor\u001b[39;00m i \u001b[39min\u001b[39;00m \u001b[39mrange\u001b[39m(start_index, end_index)]\n\u001b[1;32m     16\u001b[0m     \u001b[39mfor\u001b[39;00m fname \u001b[39min\u001b[39;00m fnames:\n",
      "File \u001b[0;32m~/miniconda3/envs/ai/lib/python3.10/os.py:225\u001b[0m, in \u001b[0;36mmakedirs\u001b[0;34m(name, mode, exist_ok)\u001b[0m\n\u001b[1;32m    223\u001b[0m         \u001b[39mreturn\u001b[39;00m\n\u001b[1;32m    224\u001b[0m \u001b[39mtry\u001b[39;00m:\n\u001b[0;32m--> 225\u001b[0m     mkdir(name, mode)\n\u001b[1;32m    226\u001b[0m \u001b[39mexcept\u001b[39;00m \u001b[39mOSError\u001b[39;00m:\n\u001b[1;32m    227\u001b[0m     \u001b[39m# Cannot rely on checking for EEXIST, since the operating system\u001b[39;00m\n\u001b[1;32m    228\u001b[0m     \u001b[39m# could give priority to other errors like EACCES or EROFS\u001b[39;00m\n\u001b[1;32m    229\u001b[0m     \u001b[39mif\u001b[39;00m \u001b[39mnot\u001b[39;00m exist_ok \u001b[39mor\u001b[39;00m \u001b[39mnot\u001b[39;00m path\u001b[39m.\u001b[39misdir(name):\n",
      "\u001b[0;31mFileExistsError\u001b[0m: [Errno 17] File exists: 'cats_vs_dogs_small/train/cat'"
     ]
    }
   ],
   "source": [
    "# Creating train, validation. and test data\n",
    "import os\n",
    "import shutil\n",
    "import pathlib\n",
    "\n",
    "original_dir = pathlib.Path(\"train\")\n",
    "new_base_dir = pathlib.Path(\"cats_vs_dogs_small\")\n",
    "\n",
    "\n",
    "def make_subset(subset_name, start_index, end_index):\n",
    "    for category in [\"cat\", \"dog\"]:\n",
    "        dir = new_base_dir / subset_name / category\n",
    "        os.makedirs(dir)\n",
    "        fnames = [f\"{category}.{i}.jpg\" for i in range(start_index, end_index)]\n",
    "\n",
    "        for fname in fnames:\n",
    "            shutil.copyfile(src=original_dir / fname, dst=dir / fname)\n",
    "\n",
    "\n",
    "make_subset(\"train\", 0, 1000)\n",
    "make_subset(\"validation\", 1000, 1500)\n",
    "make_subset(\"test\", 1500, 2500)\n"
   ]
  },
  {
   "cell_type": "code",
   "execution_count": null,
   "metadata": {},
   "outputs": [
    {
     "name": "stdout",
     "output_type": "stream",
     "text": [
      "Model: \"model_2\"\n",
      "_________________________________________________________________\n",
      " Layer (type)                Output Shape              Param #   \n",
      "=================================================================\n",
      " input_4 (InputLayer)        [(None, 180, 180, 3)]     0         \n",
      "                                                                 \n",
      " rescaling_3 (Rescaling)     (None, 180, 180, 3)       0         \n",
      "                                                                 \n",
      " conv2d_10 (Conv2D)          (None, 178, 178, 32)      896       \n",
      "                                                                 \n",
      " max_pooling2d_8 (MaxPooling  (None, 89, 89, 32)       0         \n",
      " 2D)                                                             \n",
      "                                                                 \n",
      " conv2d_11 (Conv2D)          (None, 87, 87, 64)        18496     \n",
      "                                                                 \n",
      " max_pooling2d_9 (MaxPooling  (None, 43, 43, 64)       0         \n",
      " 2D)                                                             \n",
      "                                                                 \n",
      " conv2d_12 (Conv2D)          (None, 41, 41, 128)       73856     \n",
      "                                                                 \n",
      " max_pooling2d_10 (MaxPoolin  (None, 20, 20, 128)      0         \n",
      " g2D)                                                            \n",
      "                                                                 \n",
      " conv2d_13 (Conv2D)          (None, 18, 18, 256)       295168    \n",
      "                                                                 \n",
      " max_pooling2d_11 (MaxPoolin  (None, 9, 9, 256)        0         \n",
      " g2D)                                                            \n",
      "                                                                 \n",
      " conv2d_14 (Conv2D)          (None, 7, 7, 256)         590080    \n",
      "                                                                 \n",
      " flatten_2 (Flatten)         (None, 12544)             0         \n",
      "                                                                 \n",
      " dense_2 (Dense)             (None, 1)                 12545     \n",
      "                                                                 \n",
      "=================================================================\n",
      "Total params: 991,041\n",
      "Trainable params: 991,041\n",
      "Non-trainable params: 0\n",
      "_________________________________________________________________\n"
     ]
    }
   ],
   "source": [
    "# Training\n",
    "from tensorflow import keras\n",
    "from tensorflow.keras import layers\n",
    "\n",
    "inputs = keras.Input(shape=(180, 180, 3))\n",
    "\n",
    "x = layers.Rescaling(1.0 / 255)(inputs)\n",
    "x = layers.Conv2D(filters=32, kernel_size=3, activation=\"relu\")(x)\n",
    "x = layers.MaxPooling2D(pool_size=2)(x)\n",
    "x = layers.Conv2D(filters=64, kernel_size=3, activation=\"relu\")(x)\n",
    "x = layers.MaxPooling2D(pool_size=2)(x)\n",
    "x = layers.Conv2D(filters=128, kernel_size=3, activation=\"relu\")(x)\n",
    "x = layers.MaxPooling2D(pool_size=2)(x)\n",
    "x = layers.Conv2D(filters=256, kernel_size=3, activation=\"relu\")(x)\n",
    "x = layers.MaxPooling2D(pool_size=2)(x)\n",
    "x = layers.Conv2D(filters=256, kernel_size=3, activation=\"relu\")(x)\n",
    "x = layers.Flatten()(x)\n",
    "outputs = layers.Dense(1, activation=\"sigmoid\")(x)\n",
    "model = keras.Model(inputs, outputs)\n",
    "model.summary()"
   ]
  },
  {
   "cell_type": "code",
   "execution_count": null,
   "metadata": {},
   "outputs": [],
   "source": [
    "model.compile(loss=\"binary_crossentropy\", optimizer=\"rmsprop\", metrics=[\"accuracy\"])"
   ]
  },
  {
   "cell_type": "code",
   "execution_count": null,
   "metadata": {},
   "outputs": [
    {
     "name": "stdout",
     "output_type": "stream",
     "text": [
      "Found 2000 files belonging to 2 classes.\n",
      "Found 1000 files belonging to 2 classes.\n",
      "Found 2000 files belonging to 2 classes.\n"
     ]
    }
   ],
   "source": [
    "from tensorflow.keras.utils import image_dataset_from_directory\n",
    "\n",
    "train_dataset = image_dataset_from_directory(\n",
    "    new_base_dir / \"train\", image_size=(180, 180), batch_size=32\n",
    ")\n",
    "val_dataset = image_dataset_from_directory(\n",
    "    new_base_dir / \"validation\", image_size=(180, 180), batch_size=32\n",
    ")\n",
    "test_dataset = image_dataset_from_directory(\n",
    "    new_base_dir / \"test\", image_size=(180, 180), batch_size=32\n",
    ")\n"
   ]
  },
  {
   "cell_type": "code",
   "execution_count": null,
   "metadata": {},
   "outputs": [
    {
     "name": "stdout",
     "output_type": "stream",
     "text": [
      "data batch shape: (32, 180, 180, 3)\n",
      "labels batch shape: (32,)\n"
     ]
    },
    {
     "name": "stderr",
     "output_type": "stream",
     "text": [
      "2023-07-20 15:16:02.035833: I tensorflow/core/common_runtime/executor.cc:1197] [/device:CPU:0] (DEBUG INFO) Executor start aborting (this does not indicate an error and you can ignore this message): INVALID_ARGUMENT: You must feed a value for placeholder tensor 'Placeholder/_4' with dtype int32 and shape [2000]\n",
      "\t [[{{node Placeholder/_4}}]]\n",
      "2023-07-20 15:16:02.035964: I tensorflow/core/common_runtime/executor.cc:1197] [/device:CPU:0] (DEBUG INFO) Executor start aborting (this does not indicate an error and you can ignore this message): INVALID_ARGUMENT: You must feed a value for placeholder tensor 'Placeholder/_0' with dtype string and shape [2000]\n",
      "\t [[{{node Placeholder/_0}}]]\n"
     ]
    }
   ],
   "source": [
    "for data_branch, labels_branch in train_dataset:\n",
    "    print(\"data batch shape:\", data_branch.shape)\n",
    "    print(\"labels batch shape:\", labels_branch.shape)\n",
    "    break"
   ]
  },
  {
   "cell_type": "code",
   "execution_count": null,
   "metadata": {},
   "outputs": [
    {
     "name": "stdout",
     "output_type": "stream",
     "text": [
      "Epoch 1/30\n"
     ]
    },
    {
     "name": "stderr",
     "output_type": "stream",
     "text": [
      "2023-07-20 15:16:05.063753: I tensorflow/compiler/xla/stream_executor/cuda/cuda_dnn.cc:424] Loaded cuDNN version 8600\n",
      "2023-07-20 15:16:05.428073: I tensorflow/compiler/xla/stream_executor/cuda/cuda_blas.cc:637] TensorFloat-32 will be used for the matrix multiplication. This will only be logged once.\n",
      "2023-07-20 15:16:05.429278: I tensorflow/compiler/xla/service/service.cc:169] XLA service 0x7f0143eb7710 initialized for platform CUDA (this does not guarantee that XLA will be used). Devices:\n",
      "2023-07-20 15:16:05.429285: I tensorflow/compiler/xla/service/service.cc:177]   StreamExecutor device (0): NVIDIA GeForce RTX 4090, Compute Capability 8.9\n",
      "2023-07-20 15:16:05.439853: I tensorflow/compiler/mlir/tensorflow/utils/dump_mlir_util.cc:269] disabling MLIR crash reproducer, set env var `MLIR_CRASH_REPRODUCER_DIRECTORY` to enable.\n",
      "2023-07-20 15:16:05.538806: I ./tensorflow/compiler/jit/device_compiler.h:180] Compiled cluster using XLA!  This line is logged at most once for the lifetime of the process.\n"
     ]
    },
    {
     "name": "stdout",
     "output_type": "stream",
     "text": [
      "63/63 [==============================] - ETA: 0s - loss: 0.6974 - accuracy: 0.4990"
     ]
    },
    {
     "name": "stderr",
     "output_type": "stream",
     "text": [
      "2023-07-20 15:16:07.050061: I tensorflow/core/common_runtime/executor.cc:1197] [/device:CPU:0] (DEBUG INFO) Executor start aborting (this does not indicate an error and you can ignore this message): INVALID_ARGUMENT: You must feed a value for placeholder tensor 'Placeholder/_0' with dtype string and shape [1000]\n",
      "\t [[{{node Placeholder/_0}}]]\n",
      "2023-07-20 15:16:07.050284: I tensorflow/core/common_runtime/executor.cc:1197] [/device:CPU:0] (DEBUG INFO) Executor start aborting (this does not indicate an error and you can ignore this message): INVALID_ARGUMENT: You must feed a value for placeholder tensor 'Placeholder/_0' with dtype string and shape [1000]\n",
      "\t [[{{node Placeholder/_0}}]]\n"
     ]
    },
    {
     "name": "stdout",
     "output_type": "stream",
     "text": [
      "63/63 [==============================] - 3s 15ms/step - loss: 0.6974 - accuracy: 0.4990 - val_loss: 0.6927 - val_accuracy: 0.5000\n",
      "Epoch 2/30\n",
      "63/63 [==============================] - 1s 9ms/step - loss: 0.6938 - accuracy: 0.5230 - val_loss: 0.6869 - val_accuracy: 0.5780\n",
      "Epoch 3/30\n",
      "63/63 [==============================] - 1s 10ms/step - loss: 0.6905 - accuracy: 0.5795 - val_loss: 0.6528 - val_accuracy: 0.6010\n",
      "Epoch 4/30\n",
      "63/63 [==============================] - 1s 9ms/step - loss: 0.6557 - accuracy: 0.6485 - val_loss: 0.6490 - val_accuracy: 0.6040\n",
      "Epoch 5/30\n",
      "63/63 [==============================] - 1s 9ms/step - loss: 0.6057 - accuracy: 0.6710 - val_loss: 0.5869 - val_accuracy: 0.6690\n",
      "Epoch 6/30\n",
      "63/63 [==============================] - 1s 9ms/step - loss: 0.5739 - accuracy: 0.6980 - val_loss: 0.6117 - val_accuracy: 0.6550\n",
      "Epoch 7/30\n",
      "63/63 [==============================] - 1s 9ms/step - loss: 0.5408 - accuracy: 0.7165 - val_loss: 0.6344 - val_accuracy: 0.6540\n",
      "Epoch 8/30\n",
      "63/63 [==============================] - 1s 9ms/step - loss: 0.5160 - accuracy: 0.7455 - val_loss: 0.6053 - val_accuracy: 0.7090\n",
      "Epoch 9/30\n",
      "63/63 [==============================] - 1s 9ms/step - loss: 0.4797 - accuracy: 0.7605 - val_loss: 0.7352 - val_accuracy: 0.6610\n",
      "Epoch 10/30\n",
      "63/63 [==============================] - 1s 9ms/step - loss: 0.4398 - accuracy: 0.7895 - val_loss: 0.5937 - val_accuracy: 0.7410\n",
      "Epoch 11/30\n",
      "63/63 [==============================] - 1s 9ms/step - loss: 0.4195 - accuracy: 0.8130 - val_loss: 0.6029 - val_accuracy: 0.7310\n",
      "Epoch 12/30\n",
      "63/63 [==============================] - 1s 9ms/step - loss: 0.3736 - accuracy: 0.8390 - val_loss: 0.6051 - val_accuracy: 0.7650\n",
      "Epoch 13/30\n",
      "63/63 [==============================] - 1s 9ms/step - loss: 0.3270 - accuracy: 0.8515 - val_loss: 1.0126 - val_accuracy: 0.6640\n",
      "Epoch 14/30\n",
      "63/63 [==============================] - 1s 9ms/step - loss: 0.2797 - accuracy: 0.8860 - val_loss: 1.0543 - val_accuracy: 0.6680\n",
      "Epoch 15/30\n",
      "63/63 [==============================] - 1s 9ms/step - loss: 0.2376 - accuracy: 0.8985 - val_loss: 0.7066 - val_accuracy: 0.7400\n",
      "Epoch 16/30\n",
      "63/63 [==============================] - 1s 9ms/step - loss: 0.2024 - accuracy: 0.9135 - val_loss: 1.0998 - val_accuracy: 0.7010\n",
      "Epoch 17/30\n",
      "63/63 [==============================] - 1s 9ms/step - loss: 0.1631 - accuracy: 0.9315 - val_loss: 0.9412 - val_accuracy: 0.7440\n",
      "Epoch 18/30\n",
      "63/63 [==============================] - 1s 9ms/step - loss: 0.1328 - accuracy: 0.9485 - val_loss: 1.0445 - val_accuracy: 0.7460\n",
      "Epoch 19/30\n",
      "63/63 [==============================] - 1s 9ms/step - loss: 0.1082 - accuracy: 0.9595 - val_loss: 1.0438 - val_accuracy: 0.7410\n",
      "Epoch 20/30\n",
      "63/63 [==============================] - 1s 9ms/step - loss: 0.0770 - accuracy: 0.9725 - val_loss: 1.5136 - val_accuracy: 0.7210\n",
      "Epoch 21/30\n",
      "63/63 [==============================] - 1s 9ms/step - loss: 0.0781 - accuracy: 0.9720 - val_loss: 1.2171 - val_accuracy: 0.7520\n",
      "Epoch 22/30\n",
      "63/63 [==============================] - 1s 9ms/step - loss: 0.0538 - accuracy: 0.9795 - val_loss: 1.4109 - val_accuracy: 0.7470\n",
      "Epoch 23/30\n",
      "63/63 [==============================] - 1s 9ms/step - loss: 0.0528 - accuracy: 0.9775 - val_loss: 1.4686 - val_accuracy: 0.7340\n",
      "Epoch 24/30\n",
      "63/63 [==============================] - 1s 9ms/step - loss: 0.0474 - accuracy: 0.9860 - val_loss: 2.1383 - val_accuracy: 0.7150\n",
      "Epoch 25/30\n",
      "63/63 [==============================] - 1s 9ms/step - loss: 0.0531 - accuracy: 0.9825 - val_loss: 2.2226 - val_accuracy: 0.7100\n",
      "Epoch 26/30\n",
      "63/63 [==============================] - 1s 9ms/step - loss: 0.0882 - accuracy: 0.9750 - val_loss: 1.5975 - val_accuracy: 0.7420\n",
      "Epoch 27/30\n",
      "63/63 [==============================] - 1s 9ms/step - loss: 0.0560 - accuracy: 0.9825 - val_loss: 1.5458 - val_accuracy: 0.7450\n",
      "Epoch 28/30\n",
      "63/63 [==============================] - 1s 9ms/step - loss: 0.0452 - accuracy: 0.9870 - val_loss: 1.6853 - val_accuracy: 0.7670\n",
      "Epoch 29/30\n",
      "63/63 [==============================] - 1s 9ms/step - loss: 0.0374 - accuracy: 0.9875 - val_loss: 1.7522 - val_accuracy: 0.7400\n",
      "Epoch 30/30\n",
      "63/63 [==============================] - 1s 9ms/step - loss: 0.0579 - accuracy: 0.9830 - val_loss: 2.1680 - val_accuracy: 0.7400\n"
     ]
    }
   ],
   "source": [
    "callbacks = [\n",
    "    keras.callbacks.ModelCheckpoint(\n",
    "        filepath=\"convnet_from_scratch.keras\", save_best_only=True, monitor=\"val_loss\"\n",
    "    )\n",
    "]\n",
    "\n",
    "history = model.fit(\n",
    "    train_dataset,\n",
    "    epochs=30,\n",
    "    validation_data=val_dataset,\n",
    "    callbacks=callbacks,\n",
    ")\n"
   ]
  },
  {
   "cell_type": "code",
   "execution_count": 20,
   "metadata": {},
   "outputs": [
    {
     "data": {
      "image/png": "[encoded data removed]",
      "text/plain": [
       "<Figure size 640x480 with 1 Axes>"
      ]
     },
     "metadata": {},
     "output_type": "display_data"
    },
    {
     "data": {
      "image/png": "[encoded data removed]",
      "text/plain": [
       "<Figure size 640x480 with 1 Axes>"
      ]
     },
     "metadata": {},
     "output_type": "display_data"
    }
   ],
   "source": [
    "import matplotlib.pyplot as plt\n",
    "\n",
    "accuracy = history.history[\"accuracy\"]\n",
    "val_accuracy = history.history[\"val_accuracy\"]\n",
    "loss = history.history[\"loss\"]\n",
    "val_loss = history.history[\"val_loss\"]\n",
    "epochs = range(1, len(accuracy) + 1)\n",
    "plt.plot(epochs, accuracy, \"bo\", label=\"Training Acc\")\n",
    "plt.plot(epochs, val_accuracy, \"b\", label=\"Validation Acc\")\n",
    "plt.title(\"Training and Validation Acc\")\n",
    "plt.legend()\n",
    "plt.figure()\n",
    "plt.plot(epochs, loss, \"bo\", label=\"Training Loss\")\n",
    "plt.plot(epochs, val_loss, \"b\", label=\"Validation Loss\")\n",
    "plt.title(\"Training and Validation Loss\")\n",
    "plt.legend()\n",
    "plt.show()\n",
    "# overfitting\n"
   ]
  },
  {
   "cell_type": "code",
   "execution_count": 23,
   "metadata": {},
   "outputs": [
    {
     "name": "stdout",
     "output_type": "stream",
     "text": [
      "63/63 [==============================] - 0s 4ms/step - loss: 0.5901 - accuracy: 0.6860\n",
      "Test accuracy: 0.686\n"
     ]
    }
   ],
   "source": [
    "test_model = keras.models.load_model(\"convnet_from_scratch.keras\")\n",
    "test_loss, test_acc = test_model.evaluate(test_dataset)\n",
    "print(f\"Test accuracy: {test_acc:.3f}\")"
   ]
  },
  {
   "cell_type": "code",
   "execution_count": 24,
   "metadata": {},
   "outputs": [],
   "source": [
    "data_augmentation = keras.Sequential(\n",
    "    [\n",
    "        layers.RandomFlip(\"horizontal\"),\n",
    "        layers.RandomRotation(0.1),\n",
    "        layers.RandomZoom(0.2),\n",
    "    ]\n",
    ")"
   ]
  }
 ],
 "metadata": {
  "kernelspec": {
   "display_name": "ai",
   "language": "python",
   "name": "python3"
  },
  "language_info": {
   "codemirror_mode": {
    "name": "ipython",
    "version": 3
   },
   "file_extension": ".py",
   "mimetype": "text/x-python",
   "name": "python",
   "nbconvert_exporter": "python",
   "pygments_lexer": "ipython3",
   "version": "3.10.11"
  },
  "orig_nbformat": 4
 },
 "nbformat": 4,
 "nbformat_minor": 2
}
