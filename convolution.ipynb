{
 "cells": [
  {
   "cell_type": "code",
   "execution_count": 4,
   "metadata": {},
   "outputs": [
    {
     "name": "stdout",
     "output_type": "stream",
     "text": [
      "1/1 [==============================] - 0s 15ms/step\n",
      "[[[[-0.81347275  0.21002197  1.5236549 ]\n",
      "   [-0.81347275  0.21002197  1.5236549 ]\n",
      "   [-0.81347275  0.21002197  1.5236549 ]]\n",
      "\n",
      "  [[-0.81347275  0.21002197  1.5236549 ]\n",
      "   [-0.81347275  0.21002197  1.5236549 ]\n",
      "   [-0.81347275  0.21002197  1.5236549 ]]\n",
      "\n",
      "  [[-0.81347275  0.21002197  1.5236549 ]\n",
      "   [-0.81347275  0.21002197  1.5236549 ]\n",
      "   [-0.81347275  0.21002197  1.5236549 ]]]]\n"
     ]
    }
   ],
   "source": [
    "import tensorflow as tf\n",
    "import tensorflow.keras as keras\n",
    "import numpy as np"
   ]
  },
  {
   "cell_type": "code",
   "execution_count": null,
   "metadata": {},
   "outputs": [
    {
     "name": "stdout",
     "output_type": "stream",
     "text": [
      "1/1 [==============================] - 0s 15ms/step\n",
      "[[[[-0.81347275  0.21002197  1.5236549 ]\n",
      "   [-0.81347275  0.21002197  1.5236549 ]\n",
      "   [-0.81347275  0.21002197  1.5236549 ]]\n",
      "\n",
      "  [[-0.81347275  0.21002197  1.5236549 ]\n",
      "   [-0.81347275  0.21002197  1.5236549 ]\n",
      "   [-0.81347275  0.21002197  1.5236549 ]]\n",
      "\n",
      "  [[-0.81347275  0.21002197  1.5236549 ]\n",
      "   [-0.81347275  0.21002197  1.5236549 ]\n",
      "   [-0.81347275  0.21002197  1.5236549 ]]]]\n"
     ]
    }
   ],
   "source": [
    "# this is a test\n",
    "# Create a random 5x5x2 array\n",
    "input_array = np.ones((1, 5, 5, 2))\n",
    "\n",
    "# Define the convolutional model\n",
    "model = keras.Sequential([\n",
    "    keras.layers.Conv2D(3, (3, 3), input_shape=(5, 5, 2))\n",
    "])\n",
    "\n",
    "# Perform the convolution\n",
    "output_array = model.predict(input_array)\n",
    "\n",
    "# Print the depth dimension\n",
    "print(output_array)\n",
    "\n",
    "'''\n",
    "The result is:\n",
    "[[[[-0.81347275  0.21002197  1.5236549 ]\n",
    "   [-0.81347275  0.21002197  1.5236549 ]\n",
    "   [-0.81347275  0.21002197  1.5236549 ]]\n",
    "\n",
    "  [[-0.81347275  0.21002197  1.5236549 ]\n",
    "   [-0.81347275  0.21002197  1.5236549 ]\n",
    "   [-0.81347275  0.21002197  1.5236549 ]\n",
    "  [[-0.81347275  0.21002197  1.5236549 ]\n",
    "   [-0.81347275  0.21002197  1.5236549 ]\n",
    "   [-0.81347275  0.21002197  1.5236549 ]]]]\n",
    "   \n",
    "   Every layer of the output array are identical.\n",
    "\n",
    "'''"
   ]
  }
 ],
 "metadata": {
  "kernelspec": {
   "display_name": "ai",
   "language": "python",
   "name": "python3"
  },
  "language_info": {
   "codemirror_mode": {
    "name": "ipython",
    "version": 3
   },
   "file_extension": ".py",
   "mimetype": "text/x-python",
   "name": "python",
   "nbconvert_exporter": "python",
   "pygments_lexer": "ipython3",
   "version": "3.10.11"
  },
  "orig_nbformat": 4
 },
 "nbformat": 4,
 "nbformat_minor": 2
}
