{
  "nbformat": 4,
  "nbformat_minor": 0,
  "metadata": {
    "colab": {
      "name": "F2379_BONUS.ipynb",
      "provenance": [],
      "toc_visible": true
    },
    "kernelspec": {
      "name": "python3",
      "display_name": "Python 3"
    },
    "language_info": {
      "name": "python"
    }
  },
  "cells": [
    {
      "cell_type": "markdown",
      "source": [
        "#決策樹"
      ],
      "metadata": {
        "id": "Ik6rYtct9_AA"
      }
    },
    {
      "cell_type": "code",
      "execution_count": 1,
      "metadata": {
        "id": "6Qxbl9QTwOsZ"
      },
      "outputs": [],
      "source": [
        "from sklearn.tree import DecisionTreeClassifier"
      ]
    },
    {
      "cell_type": "code",
      "source": [
        "feature = [[1,32],[1,25],[0,26],[1,19],[0,28],[0,18],[1,17],[0,22],[1,29],[0,30]]"
      ],
      "metadata": {
        "id": "ootOA3ZQwbCD"
      },
      "execution_count": 2,
      "outputs": []
    },
    {
      "cell_type": "code",
      "source": [
        "target = [1,1,0,1,0,1,1,0,1,0]"
      ],
      "metadata": {
        "id": "l4zQFX1pwt6c"
      },
      "execution_count": 3,
      "outputs": []
    },
    {
      "cell_type": "code",
      "source": [
        "tree = DecisionTreeClassifier(criterion='entropy')"
      ],
      "metadata": {
        "id": "6NYllSlkxLoX"
      },
      "execution_count": 4,
      "outputs": []
    },
    {
      "cell_type": "code",
      "source": [
        "tree.fit(feature,target)"
      ],
      "metadata": {
        "colab": {
          "base_uri": "https://localhost:8080/"
        },
        "id": "4a1kgZ5dxUJr",
        "outputId": "a4393704-a677-4f8a-8eb0-2f5340465400"
      },
      "execution_count": 5,
      "outputs": [
        {
          "output_type": "execute_result",
          "data": {
            "text/plain": [
              "DecisionTreeClassifier(criterion='entropy')"
            ]
          },
          "metadata": {},
          "execution_count": 5
        }
      ]
    },
    {
      "cell_type": "code",
      "source": [
        "prediction = tree.predict(feature)\n",
        "print(prediction)"
      ],
      "metadata": {
        "colab": {
          "base_uri": "https://localhost:8080/"
        },
        "id": "gZ-j-cAixedk",
        "outputId": "c904e734-4494-4fec-bbe2-552c914f3197"
      },
      "execution_count": 6,
      "outputs": [
        {
          "output_type": "stream",
          "name": "stdout",
          "text": [
            "[1 1 0 1 0 1 1 0 1 0]\n"
          ]
        }
      ]
    },
    {
      "cell_type": "code",
      "source": [
        "from sklearn.tree import export_graphviz\n",
        "export_graphviz(tree,out_file='hero.dot',\n",
        "        feature_names=['gender','age'],\n",
        "        class_names=['Captain America','Iron Man'])"
      ],
      "metadata": {
        "id": "SR33Jwz06mSt"
      },
      "execution_count": 7,
      "outputs": []
    },
    {
      "cell_type": "markdown",
      "source": [
        "#隨機森林"
      ],
      "metadata": {
        "id": "bmPV-O7O939g"
      }
    },
    {
      "cell_type": "code",
      "source": [
        "from sklearn import datasets\n",
        "wine_data = datasets.load_wine()"
      ],
      "metadata": {
        "id": "5OXJhjzP-jax"
      },
      "execution_count": 8,
      "outputs": []
    },
    {
      "cell_type": "code",
      "source": [
        "print('特徵名稱：',wine_data.feature_names)"
      ],
      "metadata": {
        "colab": {
          "base_uri": "https://localhost:8080/"
        },
        "id": "9v8cqXHs-2Pi",
        "outputId": "28a29b97-3338-4d32-b145-6aa987735a28"
      },
      "execution_count": 9,
      "outputs": [
        {
          "output_type": "stream",
          "name": "stdout",
          "text": [
            "特徵名稱： ['alcohol', 'malic_acid', 'ash', 'alcalinity_of_ash', 'magnesium', 'total_phenols', 'flavanoids', 'nonflavanoid_phenols', 'proanthocyanins', 'color_intensity', 'hue', 'od280/od315_of_diluted_wines', 'proline']\n"
          ]
        }
      ]
    },
    {
      "cell_type": "code",
      "source": [
        "print('類別名稱：',wine_data.target_names)"
      ],
      "metadata": {
        "colab": {
          "base_uri": "https://localhost:8080/"
        },
        "id": "gZaEAc22Bv8u",
        "outputId": "1fe903e2-d61b-46f7-cf09-650f8364d209"
      },
      "execution_count": 10,
      "outputs": [
        {
          "output_type": "stream",
          "name": "stdout",
          "text": [
            "類別名稱： ['class_0' 'class_1' 'class_2']\n"
          ]
        }
      ]
    },
    {
      "cell_type": "code",
      "source": [
        "from sklearn.model_selection import train_test_split\n",
        "train_feature, test_feature, train_target, test_target = train_test_split(\n",
        "    wine_data.data, wine_data.target, test_size=0.3\n",
        ")"
      ],
      "metadata": {
        "id": "w9inRWUpCCk3"
      },
      "execution_count": 11,
      "outputs": []
    },
    {
      "cell_type": "code",
      "source": [
        "from sklearn.tree import DecisionTreeClassifier\n",
        "\n",
        "tree = DecisionTreeClassifier(criterion='entropy', max_depth=4)\n",
        "tree.fit(train_feature, train_target)"
      ],
      "metadata": {
        "colab": {
          "base_uri": "https://localhost:8080/"
        },
        "id": "KySFkvG6CrWO",
        "outputId": "1bdfaba8-263c-4145-d902-1a04ada73a0b"
      },
      "execution_count": 12,
      "outputs": [
        {
          "output_type": "execute_result",
          "data": {
            "text/plain": [
              "DecisionTreeClassifier(criterion='entropy', max_depth=4)"
            ]
          },
          "metadata": {},
          "execution_count": 12
        }
      ]
    },
    {
      "cell_type": "code",
      "source": [
        "from sklearn.ensemble import RandomForestClassifier\n",
        "\n",
        "forest = RandomForestClassifier(criterion='entropy', n_estimators=10,\n",
        "                 max_depth=4)\n",
        "forest.fit(train_feature, train_target)"
      ],
      "metadata": {
        "colab": {
          "base_uri": "https://localhost:8080/"
        },
        "id": "ktPtrjTwDbxj",
        "outputId": "d91368ca-752a-4f29-cd51-41321fa6e408"
      },
      "execution_count": 13,
      "outputs": [
        {
          "output_type": "execute_result",
          "data": {
            "text/plain": [
              "RandomForestClassifier(criterion='entropy', max_depth=4, n_estimators=10)"
            ]
          },
          "metadata": {},
          "execution_count": 13
        }
      ]
    },
    {
      "cell_type": "code",
      "source": [
        "accuracy_tree = tree.score(test_feature, test_target)\n",
        "accuracy_forest = forest.score(test_feature, test_target)"
      ],
      "metadata": {
        "id": "g34wSJjtEWdo"
      },
      "execution_count": 14,
      "outputs": []
    },
    {
      "cell_type": "code",
      "source": [
        "print('決策樹的準確率：',accuracy_tree)\n",
        "print('隨機森林的準確度：',accuracy_forest)"
      ],
      "metadata": {
        "colab": {
          "base_uri": "https://localhost:8080/"
        },
        "id": "Gs4RZ2c8EsVt",
        "outputId": "17481931-4a60-440f-c03c-bd9b4385ff1e"
      },
      "execution_count": 15,
      "outputs": [
        {
          "output_type": "stream",
          "name": "stdout",
          "text": [
            "決策樹的準確率： 0.8148148148148148\n",
            "隨機森林的準確度： 0.9259259259259259\n"
          ]
        }
      ]
    }
  ]
}